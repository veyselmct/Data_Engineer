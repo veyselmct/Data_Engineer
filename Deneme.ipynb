{
 "cells": [
  {
   "cell_type": "code",
   "execution_count": 5,
   "metadata": {},
   "outputs": [],
   "source": []
  },
  {
   "cell_type": "markdown",
   "metadata": {},
   "source": [
    "##Değişkenler"
   ]
  },
  {
   "cell_type": "code",
   "execution_count": 20,
   "metadata": {},
   "outputs": [
    {
     "name": "stdout",
     "output_type": "stream",
     "text": [
      "veysel\n",
      "20\n",
      "3.2\n",
      "True\n",
      "<class 'str'>\n",
      "<class 'int'>\n",
      "<class 'float'>\n",
      "<class 'bool'>\n",
      "Veri Türleri : veysel <class 'str'>\n"
     ]
    }
   ],
   "source": [
    "isim= \"veysel\"\n",
    "print(isim)\n",
    "\n",
    "yas =20\n",
    "print(yas)\n",
    "\n",
    "notum=3.2\n",
    "print(notum)\n",
    "\n",
    "gecti=True\n",
    "print(gecti)\n",
    "\n",
    "print(type(isim))\n",
    "\n",
    "print(type(yas))\n",
    "\n",
    "print(type(notum))\n",
    "\n",
    "print(type(gecti))\n",
    "\n",
    "print(f\"Veri Türleri : {isim} {type(isim)}\")"
   ]
  },
  {
   "cell_type": "markdown",
   "metadata": {},
   "source": [
    "## Mark Down iki kez diyez işareti ve başlık dedikten sonra shift enter dedikten sonra "
   ]
  },
  {
   "cell_type": "markdown",
   "metadata": {},
   "source": [
    "# Veri Türleri\n",
    "\n",
    "## Listeler\n",
    "    -Liste Elemanlarına Erişim\n",
    "    -Liste Elemanlarını Değiştirme\n",
    "    -Liste Elemanlarını Silme\n",
    "    -Liste ELemanlarını Ekleme\n",
    "\n"
   ]
  },
  {
   "cell_type": "markdown",
   "metadata": {},
   "source": []
  },
  {
   "cell_type": "code",
   "execution_count": null,
   "metadata": {},
   "outputs": [],
   "source": [
    "deneme pull request"
   ]
  }
 ],
 "metadata": {
  "kernelspec": {
   "display_name": "Python 3",
   "language": "python",
   "name": "python3"
  },
  "language_info": {
   "codemirror_mode": {
    "name": "ipython",
    "version": 3
   },
   "file_extension": ".py",
   "mimetype": "text/x-python",
   "name": "python",
   "nbconvert_exporter": "python",
   "pygments_lexer": "ipython3",
   "version": "3.12.1"
  }
 },
 "nbformat": 4,
 "nbformat_minor": 2
}
